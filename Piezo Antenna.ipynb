{
 "cells": [
  {
   "cell_type": "markdown",
   "metadata": {},
   "source": [
    "# Piezo Antenna"
   ]
  },
  {
   "cell_type": "markdown",
   "metadata": {},
   "source": [
    "## Introduction"
   ]
  },
  {
   "cell_type": "markdown",
   "metadata": {},
   "source": [
    "Pointing out:\n",
    " - antennae as a common concept for near-range orientation\n",
    " - mechanoreceptors, especially the johnston's organ\n",
    " - vibration sensitivity of antennae\n",
    " - prior approaches to construct a biomimetic antenna\n",
    "     - results of these approaches\n",
    "     - drawbacks of these approaches\n",
    " - what is different in this approach\n",
    "\n",
    "\n",
    "\n",
    "\n",
    "Most insects utilize a pair of antennae to sense their near-range environment. When blindfolded these insects are still capable of climbing obstacles and finding footholds for their front legs using their antennae [[Dürr01]](https://www.ncbi.nlm.nih.gov/pubmed/22098903). Different types of mechanoreceptors present in each antenna, are involved to perform this kind of orientation. One of these receptors - the Johnston's organ - is correlated to the sensing of antennal vibrations [[JC96]](https://link.springer.com/article/10.1007/BF02346378).\n",
    "As vibrations are characterized by their amplitude, frequency and phase, all further information about the origin of the vibration is encoded in these properties. This includes forces applied to the antenna on movement or on a contact with another object.\n",
    "Prior approaches to construct a biomimetic antenna have proven, that vibration properties can be exploited to estimate a position of a contact on the antenna or material properties and texture of any touched object [[KM04]](http://www.ti.uni-bielefeld.de/downloads/publications/whisker3.pdf). .....\n",
    "\n",
    ">Therefore an artificial antenna needs to be constructed that is capable of providing distance information of objects with sufficient precision and a small latency. For footstep planning, the robot needs to get an immediate feedback of it’s surroundings, especially when the knowledge is restricted to the range of the robot. In the hereinafter described experiment, the properties and performance of an antenna that utilizes a piezoelectric sensor gets explored. More precisely it is examined, whether the signal from this antenna contains the required distance estimation on objects it touches."
   ]
  },
  {
   "cell_type": "markdown",
   "metadata": {},
   "source": [
    "## Materials and Methods\n",
    "### Experimental setup\n",
    "### Data acquisition\n",
    "### Analytical methods"
   ]
  },
  {
   "cell_type": "markdown",
   "metadata": {},
   "source": [
    "First, the recorded data must be read and processed for the analysis."
   ]
  },
  {
   "cell_type": "code",
   "execution_count": 111,
   "metadata": {},
   "outputs": [
    {
     "name": "stdout",
     "output_type": "stream",
     "text": [
      "1710848\n"
     ]
    },
    {
     "data": {
      "text/html": [
       "<div>\n",
       "<style scoped>\n",
       "    .dataframe tbody tr th:only-of-type {\n",
       "        vertical-align: middle;\n",
       "    }\n",
       "\n",
       "    .dataframe tbody tr th {\n",
       "        vertical-align: top;\n",
       "    }\n",
       "\n",
       "    .dataframe thead th {\n",
       "        text-align: right;\n",
       "    }\n",
       "</style>\n",
       "<table border=\"1\" class=\"dataframe\">\n",
       "  <thead>\n",
       "    <tr style=\"text-align: right;\">\n",
       "      <th></th>\n",
       "      <th>record</th>\n",
       "      <th>distance</th>\n",
       "      <th>speed</th>\n",
       "    </tr>\n",
       "    <tr>\n",
       "      <th>id</th>\n",
       "      <th></th>\n",
       "      <th></th>\n",
       "      <th></th>\n",
       "    </tr>\n",
       "  </thead>\n",
       "  <tbody>\n",
       "    <tr>\n",
       "      <th>0.0</th>\n",
       "      <td>[-2, 6, 12, 18, 24, 29, 32, 33, 31, 26, 29, 18...</td>\n",
       "      <td>23</td>\n",
       "      <td>60</td>\n",
       "    </tr>\n",
       "    <tr>\n",
       "      <th>1.0</th>\n",
       "      <td>[-8, -8, -7, -9, -8, -7, -8, -8, -6, -7, -7, -...</td>\n",
       "      <td>23</td>\n",
       "      <td>180</td>\n",
       "    </tr>\n",
       "    <tr>\n",
       "      <th>2.0</th>\n",
       "      <td>[-58, -59, -59, -57, -60, -58, -56, -57, -55, ...</td>\n",
       "      <td>11</td>\n",
       "      <td>140</td>\n",
       "    </tr>\n",
       "    <tr>\n",
       "      <th>3.0</th>\n",
       "      <td>[30, 29, 28, 31, 29, 28, 29, 28, 27, 29, 27, 2...</td>\n",
       "      <td>11</td>\n",
       "      <td>60</td>\n",
       "    </tr>\n",
       "    <tr>\n",
       "      <th>4.0</th>\n",
       "      <td>[-18, -17, -17, -19, -19, -19, -21, -20, -20, ...</td>\n",
       "      <td>11</td>\n",
       "      <td>100</td>\n",
       "    </tr>\n",
       "    <tr>\n",
       "      <th>5.0</th>\n",
       "      <td>[15, 11, 12, 10, 7, 8, 8, 5, 6, 6, 3, 5, 5, 3,...</td>\n",
       "      <td>23</td>\n",
       "      <td>100</td>\n",
       "    </tr>\n",
       "    <tr>\n",
       "      <th>6.0</th>\n",
       "      <td>[-38, -37, -39, -39, -40, -42, -41, -41, -43, ...</td>\n",
       "      <td>11</td>\n",
       "      <td>80</td>\n",
       "    </tr>\n",
       "    <tr>\n",
       "      <th>7.0</th>\n",
       "      <td>[0, 1, -1, 1, 1, 0, 1, -1, -2, -2, -4, -5, -5,...</td>\n",
       "      <td>23</td>\n",
       "      <td>140</td>\n",
       "    </tr>\n",
       "    <tr>\n",
       "      <th>8.0</th>\n",
       "      <td>[6, 5, 6, 5, 3, 5, 1, 2, 2, 1, 3, 4, 5, 7, 7, ...</td>\n",
       "      <td>23</td>\n",
       "      <td>120</td>\n",
       "    </tr>\n",
       "    <tr>\n",
       "      <th>9.0</th>\n",
       "      <td>[43, 42, 41, 42, 41, 41, 43, 41, 42, 42, 39, 4...</td>\n",
       "      <td>11</td>\n",
       "      <td>160</td>\n",
       "    </tr>\n",
       "    <tr>\n",
       "      <th>10.0</th>\n",
       "      <td>[-33, -33, -33, -33, -33, -32, -30, -33, -31, ...</td>\n",
       "      <td>11</td>\n",
       "      <td>120</td>\n",
       "    </tr>\n",
       "    <tr>\n",
       "      <th>11.0</th>\n",
       "      <td>[-12, -14, -13, -13, -15, -13, -11, -13, -10, ...</td>\n",
       "      <td>23</td>\n",
       "      <td>80</td>\n",
       "    </tr>\n",
       "    <tr>\n",
       "      <th>12.0</th>\n",
       "      <td>[1, 0, -3, -2, -2, -1, -2, 0, 0, 0, 0, -2, 0, ...</td>\n",
       "      <td>23</td>\n",
       "      <td>160</td>\n",
       "    </tr>\n",
       "    <tr>\n",
       "      <th>13.0</th>\n",
       "      <td>[5, 2, 5, 2, 2, 5, 2, 3, 5, 3, 5, 5, 2, 3, 2, ...</td>\n",
       "      <td>11</td>\n",
       "      <td>180</td>\n",
       "    </tr>\n",
       "  </tbody>\n",
       "</table>\n",
       "</div>"
      ],
      "text/plain": [
       "                                                 record distance speed\n",
       "id                                                                    \n",
       "0.0   [-2, 6, 12, 18, 24, 29, 32, 33, 31, 26, 29, 18...       23    60\n",
       "1.0   [-8, -8, -7, -9, -8, -7, -8, -8, -6, -7, -7, -...       23   180\n",
       "2.0   [-58, -59, -59, -57, -60, -58, -56, -57, -55, ...       11   140\n",
       "3.0   [30, 29, 28, 31, 29, 28, 29, 28, 27, 29, 27, 2...       11    60\n",
       "4.0   [-18, -17, -17, -19, -19, -19, -21, -20, -20, ...       11   100\n",
       "5.0   [15, 11, 12, 10, 7, 8, 8, 5, 6, 6, 3, 5, 5, 3,...       23   100\n",
       "6.0   [-38, -37, -39, -39, -40, -42, -41, -41, -43, ...       11    80\n",
       "7.0   [0, 1, -1, 1, 1, 0, 1, -1, -2, -2, -4, -5, -5,...       23   140\n",
       "8.0   [6, 5, 6, 5, 3, 5, 1, 2, 2, 1, 3, 4, 5, 7, 7, ...       23   120\n",
       "9.0   [43, 42, 41, 42, 41, 41, 43, 41, 42, 42, 39, 4...       11   160\n",
       "10.0  [-33, -33, -33, -33, -33, -32, -30, -33, -31, ...       11   120\n",
       "11.0  [-12, -14, -13, -13, -15, -13, -11, -13, -10, ...       23    80\n",
       "12.0  [1, 0, -3, -2, -2, -1, -2, 0, 0, 0, 0, -2, 0, ...       23   160\n",
       "13.0  [5, 2, 5, 2, 2, 5, 2, 3, 5, 3, 5, 5, 2, 3, 2, ...       11   180"
      ]
     },
     "execution_count": 111,
     "metadata": {},
     "output_type": "execute_result"
    },
    {
     "data": {
      "image/png": "[encoded data removed]",
      "text/plain": [
       "<Figure size 800x240 with 2 Axes>"
      ]
     },
     "metadata": {},
     "output_type": "display_data"
    }
   ],
   "source": [
    "import matplotlib.pyplot as plt\n",
    "import scipy.io.wavfile as wav\n",
    "import numpy as np\n",
    "import pandas as pd\n",
    "import os\n",
    "import re\n",
    "\n",
    "FRAMERATE = 0\n",
    "\n",
    "# load and prepare the data\n",
    "data_dir = 'data'\n",
    "files = os.listdir(data_dir)\n",
    "rawdata = pd.DataFrame(columns=['record', 'distance', 'speed'])\n",
    "\n",
    "# search folder for wav files\n",
    "id = 0\n",
    "for f in files:\n",
    "    if '.wav' not in f:\n",
    "        continue\n",
    "    fs, data = wav.read(os.path.join(data_dir, f))\n",
    "    FRAMERATE = fs\n",
    "    # parse integers from filename (distance, speed, material)\n",
    "    decoded_classes = [ int(s) for s in re.findall(r'-?\\d+', f) ]\n",
    "    rawdata = rawdata.append(dict(\n",
    "        { 'id'       : id,\n",
    "          'record'   : data, \n",
    "          'distance' : decoded_classes[0],\n",
    "          'speed'    : decoded_classes[1] }), ignore_index=True)\n",
    "    id += 1\n",
    "\n",
    "N_CLASSES = len(rawdata)\n",
    "rawdata = rawdata.set_index('id', drop=True)\n",
    "\n",
    "plt.figure(num=None, figsize=(10, 3), dpi=80)\n",
    "\n",
    "print(len(rawdata['record'][13]))\n",
    "plt.subplot(1, 2, 1)\n",
    "#plt.xlim((1000000, 2000000))\n",
    "plt.plot(rawdata['record'][13])\n",
    "plt.subplot(1, 2, 2)\n",
    "plt.xlim((246000, 251000))\n",
    "rawdata"
   ]
  },
  {
   "cell_type": "markdown",
   "metadata": {},
   "source": [
    "The records were stored by distance and motor speed. Each file contains 50 recorded contact events and these have to be cut out and stored separately for further processing."
   ]
  },
  {
   "cell_type": "markdown",
   "metadata": {},
   "source": [
    "### Extracting the peaks\n",
    "\n",
    "The records were stored by distance and motor speed. Each file contains 50 recorded contact events and these have to be cut out and stored separately for further processing."
   ]
  },
  {
   "cell_type": "code",
   "execution_count": null,
   "metadata": {},
   "outputs": [],
   "source": [
    "EXPECTED_CONTACTS = 100\n",
    "THRESHOLD = 5000\n",
    "FRAGMENT_SIZE = 2048\n",
    "\n",
    "data = rawdata\n",
    "\n",
    "def find_peaks(x):\n",
    "    above_th = pd.Series(x) > THRESHOLD\n",
    "    # find every threshold transgression\n",
    "    above_th = pd.Series(above_th.index[above_th == True].tolist()).astype(int)\n",
    "    diff = above_th.diff(periods=-1).abs()\n",
    "    last_peaks_indices = diff.index[diff > 4410].tolist()\n",
    "    last_peaks_indices.append(len(above_th) - 1)\n",
    "    last_peaks = above_th[last_peaks_indices].reset_index(drop=True)\n",
    "    \n",
    "    return last_peaks\n",
    "\n",
    "for i in range(N_CLASSES):\n",
    "    d = pd.Series(data['record'][i])\n",
    "    peaks = find_peaks(d.abs())\n",
    "    idx_peaks = pd.Index(peaks)\n",
    "    print('Processing {}th record: distance {} - speed {} - found {} peaks'.format(\n",
    "        i, rawdata['distance'][i], rawdata['speed'][i], len(peaks)))\n",
    "    contacts = []\n",
    "    for c_idx in peaks:\n",
    "        contacts.append(d[c_idx:c_idx + FRAGMENT_SIZE].tolist())\n",
    "        contact_nr = idx_peaks.get_loc(c_idx)\n",
    "    data.at[i, 'contacts'] = 0\n",
    "    data['contacts'] = data['contacts'].astype(object)\n",
    "    data.at[i, 'contacts'] = np.array(contacts)\n",
    "\n",
    "        \n",
    "plt.figure(num=None, figsize=(10, 4), dpi=80)\n",
    "plt.subplot('121')\n",
    "last_series = data['record'][len(data['record'])-1]\n",
    "plt.plot(last_series)\n",
    "plt.scatter(peaks, [ last_series[i] for i in peaks ], color='r')\n",
    "plt.xlim((192599, 400000))\n",
    "plt.subplot('122')\n",
    "for i in range(5):\n",
    "    xs = range(FRAGMENT_SIZE*(i),FRAGMENT_SIZE*(i+1))\n",
    "    plt.plot(xs, last_series[peaks[i]:peaks[i] + FRAGMENT_SIZE])\n",
    "data"
   ]
  },
  {
   "cell_type": "markdown",
   "metadata": {},
   "source": [
    "### Spectrogram\n",
    "\n",
    "The spectrogram shows the time course of frequency power."
   ]
  },
  {
   "cell_type": "code",
   "execution_count": 171,
   "metadata": {},
   "outputs": [
    {
     "data": {
      "image/png": "[encoded data removed]",
      "text/plain": [
       "<Figure size 432x288 with 2 Axes>"
      ]
     },
     "metadata": {},
     "output_type": "display_data"
    }
   ],
   "source": [
    "import scipy.signal as signal\n",
    "\n",
    "SEGMENT_LEN = 535\n",
    "dat = data['record'][0]\n",
    "\n",
    "def generate_spectrogram(data):\n",
    "    f, t, Sxx = signal.spectrogram(data,\n",
    "                                 fs=FRAMERATE,\n",
    "                                 scaling='density',\n",
    "                                 mode='psd',\n",
    "                                 nperseg=SEGMENT_LEN, \n",
    "                                 nfft=SEGMENT_LEN*2)\n",
    "    Sxx = np.log(Sxx)\n",
    "    return f, t, Sxx\n",
    "\n",
    "\n",
    "def samples_to_time(num_samples):\n",
    "    return np.array(range(num_samples)) / 44100.\n",
    "    \n",
    "\n",
    "f, t, Sxx = generate_spectrogram(dat)\n",
    "\n",
    "fig, ax = plt.subplots(2,1)\n",
    "ax[1].set_ylim((20, 10000))\n",
    "# show two seconds of the signals spectrogram\n",
    "ax[0].set_xlim((6, 7))\n",
    "ax[1].set_xlim((6, 7))\n",
    "ax[0].plot(samples_to_time(len(data['record'][0])), dat)\n",
    "ax[1].pcolormesh(t, f, Sxx, label='spectrogram i')\n",
    "ax[1].set_yscale('log')"
   ]
  },
  {
   "cell_type": "markdown",
   "metadata": {},
   "source": [
    "# Frequency spectra"
   ]
  },
  {
   "cell_type": "code",
   "execution_count": 130,
   "metadata": {},
   "outputs": [
    {
     "data": {
      "text/plain": [
       "id\n",
       "0.0     [[5209, 4962, 4297, 3857, 3896, 4250, 4732, 48...\n",
       "1.0     [[5003, 5000, 4993, 4985, 4986, 4990, 4991, 49...\n",
       "2.0     [[5083, 4983, 4914, 4871, 4846, 4822, 4784, 47...\n",
       "3.0     [[5147, 4973, 4792, 4632, 4505, 4412, 4356, 43...\n",
       "4.0     [[5033, 4966, 4897, 4829, 4764, 4696, 4631, 45...\n",
       "5.0     [[-5002, -4972, -4921, -4846, -4760, -4667, -4...\n",
       "6.0     [[5033, 4999, 4964, 4925, 4885, 4845, 4800, 47...\n",
       "7.0     [[5029, 4980, 4932, 4885, 4832, 4779, 4722, 46...\n",
       "8.0     [[5018, 4985, 4923, 4827, 4697, 4543, 4376, 41...\n",
       "9.0     [[-5020, -4978, -4952, -4929, -4902, -4872, -4...\n",
       "10.0    [[5076, 4966, 4887, 4834, 4809, 4804, 4781, 47...\n",
       "11.0    [[-5062, -4949, -4743, -4502, -4311, -4196, -4...\n",
       "12.0    [[-5003, -4976, -4951, -4928, -4907, -4888, -4...\n",
       "13.0    [[-5010, -4998, -4984, -4971, -4960, -4952, -4...\n",
       "Name: contacts, dtype: object"
      ]
     },
     "execution_count": 130,
     "metadata": {},
     "output_type": "execute_result"
    }
   ],
   "source": [
    "data['contacts']"
   ]
  },
  {
   "cell_type": "code",
   "execution_count": 235,
   "metadata": {},
   "outputs": [
    {
     "data": {
      "text/plain": [
       "<ErrorbarContainer object of 3 artists>"
      ]
     },
     "execution_count": 235,
     "metadata": {},
     "output_type": "execute_result"
    },
    {
     "data": {
      "image/png": "[encoded data removed]",
      "text/plain": [
       "<Figure size 1040x320 with 1 Axes>"
      ]
     },
     "metadata": {},
     "output_type": "display_data"
    }
   ],
   "source": [
    "plt.figure(num=None, figsize=(13, 4), dpi=80)\n",
    "\n",
    "def generate_spectrum(data):\n",
    "    return signal.welch(data,\n",
    "                           fs=FRAMERATE,\n",
    "                           window='hann',\n",
    "                           nperseg=SEGMENT_LEN,\n",
    "                           nfft=SEGMENT_LEN*2)\n",
    "\n",
    "# generate mean power spectra over every hit for each distance\n",
    "mean_spectra = pd.DataFrame()\n",
    "for i in range(N_CLASSES):\n",
    "    contacts = data['contacts'][i]\n",
    "    f, Pxx = generate_spectrum(contacts)\n",
    "    #Pxx = 10 * np.log10(Pxx)\n",
    "    avg = np.mean(Pxx, axis=0)\n",
    "    mean_spectra[i] = avg\n",
    "    std_dev = np.std(Pxx, axis=0)\n",
    "\n",
    "# plot last spectrum\n",
    "#f, ax = plt.subplots()\n",
    "plt.xscale('log')\n",
    "plt.yscale('log')\n",
    "plt.errorbar(f, avg, std_dev)"
   ]
  },
  {
   "cell_type": "markdown",
   "metadata": {},
   "source": [
    "### Power motorspeed correlation"
   ]
  },
  {
   "cell_type": "code",
   "execution_count": 246,
   "metadata": {},
   "outputs": [
    {
     "data": {
      "text/plain": [
       "id\n",
       "0.0     23\n",
       "1.0     23\n",
       "2.0     11\n",
       "3.0     11\n",
       "4.0     11\n",
       "5.0     23\n",
       "6.0     11\n",
       "7.0     23\n",
       "8.0     23\n",
       "9.0     11\n",
       "10.0    11\n",
       "11.0    23\n",
       "12.0    23\n",
       "13.0    11\n",
       "Name: distance, dtype: object"
      ]
     },
     "execution_count": 246,
     "metadata": {},
     "output_type": "execute_result"
    }
   ],
   "source": [
    "for i in range(N_CLASSES):\n",
    "    distance = data.loc[i, 'distance']\n",
    "    speed = data.loc[i, 'speed']\n",
    "    total_power = mean_spectra[i].sum()\n",
    "    \n",
    "data['distance']"
   ]
  },
  {
   "cell_type": "code",
   "execution_count": null,
   "metadata": {},
   "outputs": [],
   "source": []
  }
 ],
 "metadata": {
  "kernelspec": {
   "display_name": "venv",
   "language": "python",
   "name": "venv"
  },
  "language_info": {
   "codemirror_mode": {
    "name": "ipython",
    "version": 2
   },
   "file_extension": ".py",
   "mimetype": "text/x-python",
   "name": "python",
   "nbconvert_exporter": "python",
   "pygments_lexer": "ipython2",
   "version": "2.7.12"
  }
 },
 "nbformat": 4,
 "nbformat_minor": 2
}
